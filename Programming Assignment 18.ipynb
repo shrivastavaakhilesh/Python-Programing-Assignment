{
 "cells": [
  {
   "cell_type": "code",
   "execution_count": 1,
   "id": "30bee17f",
   "metadata": {},
   "outputs": [],
   "source": [
    "#Q1. Create a function that takes a lists of non-negative integers and strings and return a new list without the\n",
    "#    strings?"
   ]
  },
  {
   "cell_type": "code",
   "execution_count": 2,
   "id": "be779c45",
   "metadata": {},
   "outputs": [
    {
     "name": "stdout",
     "output_type": "stream",
     "text": [
      "[7, 8, 456]\n"
     ]
    }
   ],
   "source": [
    "class List:\n",
    "    def filter_list(self,l):\n",
    "        self.l = l\n",
    "        try:\n",
    "            out_list = []\n",
    "            for i in self.l:\n",
    "                if type(i)==int and i>=0:\n",
    "                    out_list.append(i)\n",
    "            print(out_list)\n",
    "        except Exception as e:\n",
    "            print(e)\n",
    "obj = List()\n",
    "obj.filter_list([7,\"asf\",8,\"9\",456])"
   ]
  },
  {
   "cell_type": "code",
   "execution_count": 3,
   "id": "9b47bf94",
   "metadata": {},
   "outputs": [],
   "source": [
    "#Q2. The \"Reverser\" takes a string as input and returns that string in reverse order, with the opposite case?"
   ]
  },
  {
   "cell_type": "code",
   "execution_count": 4,
   "id": "fbeee16d",
   "metadata": {},
   "outputs": [
    {
     "name": "stdout",
     "output_type": "stream",
     "text": [
      "DLROw OLLEh\n"
     ]
    }
   ],
   "source": [
    "class string:\n",
    "    def reverse(self,in_string):\n",
    "        self.in_string = in_string\n",
    "        try:\n",
    "            out_string = in_string[::-1].swapcase()\n",
    "            print(out_string)\n",
    "        except Exception as e:\n",
    "            print(e)\n",
    "obj = string()\n",
    "obj.reverse(\"Hello World\")"
   ]
  },
  {
   "cell_type": "code",
   "execution_count": 5,
   "id": "8614cff0",
   "metadata": {},
   "outputs": [],
   "source": [
    "#Q3. You can assign variables from lists like this:\n",
    "#    lst = [1,3,4,5,6]\n",
    "#    first = lst[0]\n",
    "#    second = lst[1:-1]\n",
    "#    third = lst[-1]\n",
    "#    print(first)-outputs [2,3,4,5]\n",
    "#    print(last)-output 6\n",
    "# With Python 3,you can assign variables from list in a much more succint way.Create variables first,middle and\n",
    "# last from the given list using destructing assignment\n",
    "# (check the Resources tab for some examples),where:\n",
    "# first-1\n",
    "# middle-[2,3,4,5]\n",
    "# last-6\n",
    "# Your task is to unpack the list writeyourcodehere into three variables ,being first,middle and last element.\n",
    "# Then print all three variables."
   ]
  },
  {
   "cell_type": "code",
   "execution_count": 6,
   "id": "b2398725",
   "metadata": {},
   "outputs": [
    {
     "name": "stdout",
     "output_type": "stream",
     "text": [
      "first_l =  1\n",
      "middle  [2, 3, 4, 5]\n",
      "last  6\n"
     ]
    }
   ],
   "source": [
    "class List:\n",
    "    def first_middle_last_list(self,l):\n",
    "        self.l = l\n",
    "        try:\n",
    "           print(\"first_l = \",l[0])\n",
    "           print(\"middle \",l[1:-1])\n",
    "           print(\"last \",l[-1])\n",
    "\n",
    "        except Exception as e:\n",
    "            print(e)\n",
    "obj = List()\n",
    "obj.first_middle_last_list([1,2,3,4,5,6])"
   ]
  },
  {
   "cell_type": "code",
   "execution_count": 7,
   "id": "e4385b1c",
   "metadata": {},
   "outputs": [],
   "source": [
    "#Q4. Write a function that calculates the factorial of a number recursively\n",
    "# Examples: factorial(5)-120\n",
    "# factorial(3)-6\n",
    "# factorial(1)-1\n",
    "# factorial(0)-1"
   ]
  },
  {
   "cell_type": "code",
   "execution_count": 8,
   "id": "cf749b32",
   "metadata": {},
   "outputs": [
    {
     "name": "stdout",
     "output_type": "stream",
     "text": [
      "factorial(5):120\n",
      "factorial(0):1\n",
      "factorial(1):1\n",
      "factorial(10):3628800\n"
     ]
    }
   ],
   "source": [
    "def factorial(n):\n",
    "    if n==0:\n",
    "        return 1\n",
    "    else:\n",
    "        return n*factorial(n-1)\n",
    "print(f'factorial(5):{factorial(5)}')\n",
    "print(f'factorial(0):{factorial(0)}')\n",
    "print(f'factorial(1):{factorial(1)}')\n",
    "print(f'factorial(10):{factorial(10)}')"
   ]
  },
  {
   "cell_type": "code",
   "execution_count": 9,
   "id": "66a4ad34",
   "metadata": {},
   "outputs": [],
   "source": [
    "#Q5. Write a funnction that moves all elements of one type to the  end of the list\n",
    "#    Examples: move_to_end([1,3,2,4,4,1]-[3,2,4,4,1,1])\n",
    "#    Move to all the 1s to the end of the array\n",
    "#    move_to_end([7,8,9,1,2,3,4],9)-[7,8,1,2,3,4,9]\n",
    "#    move _to_end([\"a\",\"a\",\"a\",\"b\"],\"a\")-[\"b\",\"a\",\"a\",\"a\"]"
   ]
  },
  {
   "cell_type": "code",
   "execution_count": 10,
   "id": "84f89c57",
   "metadata": {},
   "outputs": [
    {
     "name": "stdout",
     "output_type": "stream",
     "text": [
      "move_to_end([7,8,9,1,2,3,4],9):[7, 8, 1, 2, 3, 4, 9]\n",
      "move_to_end([\"a\",\"a\",\"a\",\"b\"],\"a\"):['b', 'a', 'a', 'a']\n"
     ]
    }
   ],
   "source": [
    "def move_to_end(list,num):\n",
    "    first_end = []\n",
    "    second_end = []\n",
    "    for i in list:\n",
    "        if i == num:\n",
    "            second_end.append(i)\n",
    "        else:\n",
    "            first_end.append(i)\n",
    "    first_end.extend(second_end)\n",
    "    return first_end\n",
    "print(f'move_to_end([7,8,9,1,2,3,4],9):{move_to_end([7,8,9,1,2,3,4],9)}')\n",
    "print(f'move_to_end([\"a\",\"a\",\"a\",\"b\"],\"a\"):{move_to_end([\"a\",\"a\",\"a\",\"b\"],\"a\")}')"
   ]
  }
 ],
 "metadata": {
  "kernelspec": {
   "display_name": "Python 3 (ipykernel)",
   "language": "python",
   "name": "python3"
  },
  "language_info": {
   "codemirror_mode": {
    "name": "ipython",
    "version": 3
   },
   "file_extension": ".py",
   "mimetype": "text/x-python",
   "name": "python",
   "nbconvert_exporter": "python",
   "pygments_lexer": "ipython3",
   "version": "3.9.7"
  }
 },
 "nbformat": 4,
 "nbformat_minor": 5
}
