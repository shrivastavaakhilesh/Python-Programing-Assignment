{
 "cells": [
  {
   "cell_type": "code",
   "execution_count": 1,
   "id": "f383f391",
   "metadata": {},
   "outputs": [],
   "source": [
    "#Q1. Please write a program using generator to print the number which can be divisible by 5 and 7 between 0 and n in comma \n",
    "#    separated form while n is input by console?\n",
    "#    Example:\n",
    "#    If the following n is given as input to the program : 100\n",
    "#    Then,the output of the program should be : 0,35,70"
   ]
  },
  {
   "cell_type": "code",
   "execution_count": 2,
   "id": "2b748080",
   "metadata": {},
   "outputs": [
    {
     "name": "stdout",
     "output_type": "stream",
     "text": [
      "0 35 70 "
     ]
    }
   ],
   "source": [
    "class div_generator:\n",
    "    def __init__(self,in_input):\n",
    "        self.in_input = in_input\n",
    "    def get_num(self):\n",
    "        for i in range(0,self.in_input+1):\n",
    "            if i%5==0 and i%7==0:\n",
    "                yield i\n",
    "output = div_generator(100)\n",
    "for i in output.get_num():\n",
    "    print(i,end=' ')"
   ]
  },
  {
   "cell_type": "code",
   "execution_count": 3,
   "id": "42b14931",
   "metadata": {},
   "outputs": [],
   "source": [
    "#Q2. Please write a program using generator to print the even  numbers between 0 and n in comma separated froom while n is \n",
    "#    input by console?\n",
    "#    Example: \n",
    "#    If the following n is given as input to the program : 10\n",
    "#    Then,the output of the program should be : 0,2,4,6,8,10"
   ]
  },
  {
   "cell_type": "code",
   "execution_count": 4,
   "id": "1accd924",
   "metadata": {},
   "outputs": [
    {
     "name": "stdout",
     "output_type": "stream",
     "text": [
      "0 2 4 6 8 "
     ]
    }
   ],
   "source": [
    "def genEvenNum(in_num):\n",
    "    for i in range(in_num):\n",
    "        if i % 2 == 0:\n",
    "            yield i\n",
    "for i in genEvenNum(10):\n",
    "    print(i,end=' ')"
   ]
  },
  {
   "cell_type": "code",
   "execution_count": 5,
   "id": "bfc13314",
   "metadata": {},
   "outputs": [],
   "source": [
    "#Q3. The fibonacci sequence is computed based on the following formula below, please write a program using list comprehension\n",
    "#    to print the Fibonacci Sequence in comma separated form with a given n input by console?\n",
    "#    f(n)=0 if n=0\n",
    "#    f(n)=1 if n=1\n",
    "#    f(n)=f(n-1) + f(n-2) if n>1"
   ]
  },
  {
   "cell_type": "code",
   "execution_count": 6,
   "id": "7e03e587",
   "metadata": {},
   "outputs": [
    {
     "name": "stdout",
     "output_type": "stream",
     "text": [
      "[0, 1, 1, 2, 3, 5, 8, 13, 21, 34, 55, 89, 144, 233, 377, 610, 987, 1597, 2584, 4181]\n"
     ]
    }
   ],
   "source": [
    "def genFibonaci(in_num):\n",
    "    if in_num == 0:\n",
    "        return 0\n",
    "    elif in_num == 1:\n",
    "        return 1\n",
    "    else:\n",
    "        return genFibonaci(in_num-1) + genFibonaci(in_num-2)\n",
    "print([genFibonaci(x) for x in range(20)])"
   ]
  },
  {
   "cell_type": "code",
   "execution_count": 7,
   "id": "9c4848fe",
   "metadata": {},
   "outputs": [],
   "source": [
    "#Q4. Assuming  that we have some email address in the \"usename@copyname\" format,please write program to print the user name of \n",
    "#    a given email address .Both username and copyname are composed of letters only?\n",
    "#    Example: If the following email is given as input to the program: john@google.com\n",
    "#    Then,the output of the program should be : john"
   ]
  },
  {
   "cell_type": "code",
   "execution_count": 8,
   "id": "a193095f",
   "metadata": {},
   "outputs": [
    {
     "name": "stdout",
     "output_type": "stream",
     "text": [
      "Enter the emailid in format 'username@copyname' : akki@yahoo.com\n",
      "akki\n"
     ]
    }
   ],
   "source": [
    "def getUsername():\n",
    "    in_input = input(\"Enter the emailid in format 'username@copyname' : \")\n",
    "    out_str  = in_input.split(\"@\")\n",
    "    print(out_str[0])\n",
    "getUsername()"
   ]
  },
  {
   "cell_type": "code",
   "execution_count": 9,
   "id": "e6afce79",
   "metadata": {},
   "outputs": [],
   "source": [
    "#Q5. Define a class Shape and its subclass square. The square class has an inint function which takes a length as argument .Both\n",
    "#    classes have a area function which can print the area of the shape where Shape's area is 0 by default"
   ]
  },
  {
   "cell_type": "code",
   "execution_count": 10,
   "id": "5807afe5",
   "metadata": {},
   "outputs": [
    {
     "name": "stdout",
     "output_type": "stream",
     "text": [
      "10000\n"
     ]
    }
   ],
   "source": [
    "class shape:\n",
    "    def area(self):\n",
    "        return 0\n",
    "class square(shape):\n",
    "    def __init__(self,length):\n",
    "        self.length = length\n",
    "    def area(self):\n",
    "        return self.length*self.length\n",
    "obj=square(100)\n",
    "print(obj.area())"
   ]
  }
 ],
 "metadata": {
  "kernelspec": {
   "display_name": "Python 3 (ipykernel)",
   "language": "python",
   "name": "python3"
  },
  "language_info": {
   "codemirror_mode": {
    "name": "ipython",
    "version": 3
   },
   "file_extension": ".py",
   "mimetype": "text/x-python",
   "name": "python",
   "nbconvert_exporter": "python",
   "pygments_lexer": "ipython3",
   "version": "3.9.7"
  }
 },
 "nbformat": 4,
 "nbformat_minor": 5
}
