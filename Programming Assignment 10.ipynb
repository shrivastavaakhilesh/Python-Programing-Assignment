{
 "cells": [
  {
   "cell_type": "code",
   "execution_count": 1,
   "id": "31d28a3e",
   "metadata": {},
   "outputs": [
    {
     "name": "stdout",
     "output_type": "stream",
     "text": [
      "Enter the number of entries in a list: 7\n",
      "Enter the element: 2\n",
      "Enter the element: 5\n",
      "Enter the element: 8\n",
      "Enter the element: 9\n",
      "Enter the element: 3\n",
      "Enter the element: 6\n",
      "Enter the element: 4\n",
      "Sum of elements: 37\n"
     ]
    }
   ],
   "source": [
    "#Q1. Write a python program to find sum of elements in a list?\n",
    "\n",
    "\n",
    "def sumofList():\n",
    "    in_ele = int(input(\"Enter the number of entries in a list: \"))\n",
    "    in_list = []\n",
    "    for i in range(in_ele):\n",
    "        in_list.append(int(input(\"Enter the element: \")))\n",
    "    print(f\"Sum of elements: {sum(in_list)}\")\n",
    "sumofList()"
   ]
  },
  {
   "cell_type": "code",
   "execution_count": 2,
   "id": "28d5bd91",
   "metadata": {},
   "outputs": [],
   "source": [
    "#Q2. Write a python program to multiply all elements in a list?"
   ]
  },
  {
   "cell_type": "code",
   "execution_count": 3,
   "id": "f1df786d",
   "metadata": {},
   "outputs": [
    {
     "name": "stdout",
     "output_type": "stream",
     "text": [
      "Enter the number of elements in a list: 5\n",
      "Enter an element: 12\n",
      "Enter an element: 21\n",
      "Enter an element: 32\n",
      "Enter an element: 23\n",
      "Enter an element: 45\n",
      "8346240\n"
     ]
    }
   ],
   "source": [
    "def mulofList():\n",
    "    in_ele=int(input(\"Enter the number of elements in a list: \"))\n",
    "    in_list=[]\n",
    "    mul=1\n",
    "    for i in range(in_ele):\n",
    "        in_list.append(int(input(\"Enter an element: \")))\n",
    "    for ele in in_list:\n",
    "        mul=mul*ele\n",
    "    print(mul)\n",
    "mulofList()"
   ]
  },
  {
   "cell_type": "code",
   "execution_count": 4,
   "id": "f90d99c6",
   "metadata": {},
   "outputs": [],
   "source": [
    "#Q3. Write a python program to find smallest number in a list?"
   ]
  },
  {
   "cell_type": "code",
   "execution_count": 5,
   "id": "fe12e9ba",
   "metadata": {},
   "outputs": [
    {
     "name": "stdout",
     "output_type": "stream",
     "text": [
      "Enter the number of elements: 10\n",
      "Enter an element: 20\n",
      "Enter an element: 12\n",
      "Enter an element: 13\n",
      "Enter an element: 45\n",
      "Enter an element: 44\n",
      "Enter an element: 78\n",
      "Enter an element: 98\n",
      "Enter an element: 102\n",
      "Enter an element: 302\n",
      "Enter an element: 136\n",
      "The Smallest number in: [20, 12, 13, 45, 44, 78, 98, 102, 302, 136] is 12\n"
     ]
    }
   ],
   "source": [
    "def smallinList():\n",
    "    in_ele=int(input(\"Enter the number of elements: \"))\n",
    "    in_list=[]\n",
    "    for i in range(in_ele):\n",
    "        in_list.append(int(input(\"Enter an element: \")))\n",
    "    print(f'The Smallest number in: {in_list} is {sorted(in_list)[0]}')\n",
    "smallinList()"
   ]
  },
  {
   "cell_type": "code",
   "execution_count": 6,
   "id": "2e24b08d",
   "metadata": {},
   "outputs": [],
   "source": [
    "#Q4. Write a python program to find largest number in a list?"
   ]
  },
  {
   "cell_type": "code",
   "execution_count": 7,
   "id": "fd3fb283",
   "metadata": {},
   "outputs": [
    {
     "name": "stdout",
     "output_type": "stream",
     "text": [
      "Enter the number of entries: 5\n",
      "Enter an element: 111\n",
      "Enter an element: 122\n",
      "Enter an element: 211\n",
      "Enter an element: 654\n",
      "Enter an element: 456\n",
      "The largest number in: [111, 122, 211, 654, 456] is 654\n"
     ]
    }
   ],
   "source": [
    "def largeinList():\n",
    "    in_ele = int(input(\"Enter the number of entries: \"))\n",
    "    in_list=[]\n",
    "    for i in range(in_ele):\n",
    "        in_list.append(int(input(\"Enter an element: \")))\n",
    "    print(f\"The largest number in: {in_list} is {sorted(in_list)[-1]}\")\n",
    "largeinList()"
   ]
  },
  {
   "cell_type": "code",
   "execution_count": 8,
   "id": "09d79de6",
   "metadata": {},
   "outputs": [],
   "source": [
    "#Q5. Write a python program to second largest number in a list?"
   ]
  },
  {
   "cell_type": "code",
   "execution_count": 9,
   "id": "ab7036ce",
   "metadata": {},
   "outputs": [
    {
     "name": "stdout",
     "output_type": "stream",
     "text": [
      "Enter the number of elements: 5\n",
      "Enter an element: 14\n",
      "Enter an element: 15\n",
      "Enter an element: 75\n",
      "Enter an element: 45\n",
      "Enter an element: 65\n",
      "The 4 largest element in [14, 15, 75, 45, 65] is [75, 65, 45, 15]\n"
     ]
    }
   ],
   "source": [
    "def Nlarge_inList(k):\n",
    "    in_ele = int(input(\"Enter the number of elements: \"))\n",
    "    in_list = []\n",
    "    for i in range(in_ele):\n",
    "        in_list.append(int(input(\"Enter an element: \")))\n",
    "    print(f\"The {k} largest element in {in_list} is {sorted(in_list,reverse=True)[0:k]}\")\n",
    "\n",
    "Nlarge_inList(4)"
   ]
  },
  {
   "cell_type": "code",
   "execution_count": 10,
   "id": "e2298c15",
   "metadata": {},
   "outputs": [],
   "source": [
    "#Q7. Write a python program to find even number in a list?"
   ]
  },
  {
   "cell_type": "code",
   "execution_count": 11,
   "id": "000ee94c",
   "metadata": {},
   "outputs": [
    {
     "name": "stdout",
     "output_type": "stream",
     "text": [
      "Enter the number of elements: 7\n",
      "Enter an element: 2\n",
      "Enter an element: 6\n",
      "Enter an element: 15\n",
      "Enter an element: 17\n",
      "Enter an element: 88\n",
      "Enter an element: 44\n",
      "Enter an element: 36\n",
      "The Even elements in [2, 6, 15, 17, 88, 44, 36] are [2, 6, 88, 44, 36]\n"
     ]
    }
   ],
   "source": [
    "def evenInList():\n",
    "    in_ele = int(input(\"Enter the number of elements: \"))\n",
    "    in_list = []\n",
    "    even_list = []\n",
    "    for i in range(in_ele):\n",
    "        in_list.append(int(input(\"Enter an element: \")))\n",
    "    for i in in_list:\n",
    "        if i%2==0:\n",
    "            even_list.append(i)\n",
    "    print(f\"The Even elements in {in_list} are {even_list}\")\n",
    "evenInList()"
   ]
  },
  {
   "cell_type": "code",
   "execution_count": 12,
   "id": "07fb933e",
   "metadata": {},
   "outputs": [],
   "source": [
    "#Q8. Write a python program to find odd number in a list?"
   ]
  },
  {
   "cell_type": "code",
   "execution_count": 13,
   "id": "070d8882",
   "metadata": {},
   "outputs": [
    {
     "name": "stdout",
     "output_type": "stream",
     "text": [
      "Enter the number of entries: 5\n",
      "Enter an element: 1\n",
      "Enter an element: 3\n",
      "Enter an element: 56\n",
      "Enter an element: 45\n",
      "Enter an element: 65\n",
      "The odd elements in [1, 3, 56, 45, 65] are [1, 3, 45, 65]\n"
     ]
    }
   ],
   "source": [
    "def oddInList():\n",
    "    in_ele = int(input(\"Enter the number of entries: \"))\n",
    "    in_list = []\n",
    "    odd_list = []\n",
    "    for i in range(in_ele):\n",
    "        in_list.append(int(input(\"Enter an element: \")))\n",
    "    for i in in_list:\n",
    "        if i%2 != 0:\n",
    "            odd_list.append(i)\n",
    "    print(f\"The odd elements in {in_list} are {odd_list}\")\n",
    "oddInList()"
   ]
  },
  {
   "cell_type": "code",
   "execution_count": 14,
   "id": "25f31c76",
   "metadata": {},
   "outputs": [],
   "source": [
    "#Q9. Write a python program to remove empty list from list?"
   ]
  },
  {
   "cell_type": "code",
   "execution_count": 17,
   "id": "19c4afdb",
   "metadata": {},
   "outputs": [
    {
     "name": "stdout",
     "output_type": "stream",
     "text": [
      "Enter the elements of list: [7,0,8,3,[],6,1]\n",
      "There is an empty list in [7, 0, 8, 3, [], 6, 1] at position 4\n",
      "The list after removing [] is [7, 0, 8, 3, 6, 1]\n"
     ]
    }
   ],
   "source": [
    "def checkEmptyList():\n",
    "    in_list = eval(input(\"Enter the elements of list: \"))\n",
    "    if [] in in_list:\n",
    "        print(f\"There is an empty list in {in_list} at position {in_list.index([])}\")\n",
    "        in_list.remove([])\n",
    "        print(f\"The list after removing [] is {in_list}\")\n",
    "    else:\n",
    "        print(f\"There is no [] list in {in_list}\")\n",
    "checkEmptyList()"
   ]
  },
  {
   "cell_type": "code",
   "execution_count": 18,
   "id": "31a0f8fe",
   "metadata": {},
   "outputs": [
    {
     "name": "stdout",
     "output_type": "stream",
     "text": [
      "Enter a list[1,5,8,6,0,2,3,4]\n",
      "[1, 5, 8, 6, 0, 2, 3, 4] 2321146253952\n",
      "[1, 5, 8, 6, 0, 2, 3, 4] 2321146252160\n"
     ]
    }
   ],
   "source": [
    "#Q10. Write a python program to Cloning or copying a list?\n",
    "\n",
    "\n",
    "\n",
    "import copy\n",
    "\n",
    "def cloneList():\n",
    "    in_list = eval(input(\"Enter a list\"))\n",
    "    print(in_list,id(in_list))\n",
    "    cloned_list = in_list.copy()\n",
    "    print(cloned_list,id(cloned_list))\n",
    "cloneList()"
   ]
  },
  {
   "cell_type": "code",
   "execution_count": 19,
   "id": "9cf88248",
   "metadata": {},
   "outputs": [],
   "source": [
    "#Q11. Write a python program to count occurences of an element in a list?"
   ]
  },
  {
   "cell_type": "code",
   "execution_count": 20,
   "id": "f30d4d7f",
   "metadata": {},
   "outputs": [
    {
     "name": "stdout",
     "output_type": "stream",
     "text": [
      "Enter The elements of list: [5,0,7,5,8,5,3,5,5]\n",
      "Enter the element to find occurence: 5\n",
      "There are 5 occurences of 5 in [5, 0, 7, 5, 8, 5, 3, 5, 5]\n"
     ]
    }
   ],
   "source": [
    "def checkOccurence():\n",
    "    in_list = eval(input(\"Enter The elements of list: \"))\n",
    "    in_num = eval(input(\"Enter the element to find occurence: \"))\n",
    "    count = 0\n",
    "    if in_num in in_list:\n",
    "        for i in in_list:\n",
    "            if i == in_num:\n",
    "                count=count+1\n",
    "    print(f\"There are {count} occurences of {in_num} in {in_list}\")\n",
    "checkOccurence()"
   ]
  }
 ],
 "metadata": {
  "kernelspec": {
   "display_name": "Python 3 (ipykernel)",
   "language": "python",
   "name": "python3"
  },
  "language_info": {
   "codemirror_mode": {
    "name": "ipython",
    "version": 3
   },
   "file_extension": ".py",
   "mimetype": "text/x-python",
   "name": "python",
   "nbconvert_exporter": "python",
   "pygments_lexer": "ipython3",
   "version": "3.9.7"
  }
 },
 "nbformat": 4,
 "nbformat_minor": 5
}
