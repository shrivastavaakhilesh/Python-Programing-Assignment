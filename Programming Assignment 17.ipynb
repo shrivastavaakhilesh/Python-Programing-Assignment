{
 "cells": [
  {
   "cell_type": "code",
   "execution_count": 1,
   "id": "2610c0b3",
   "metadata": {},
   "outputs": [],
   "source": [
    "#Q1. Create a function that takes three arguments a,b,c and returns the sum of the numbers that are evenly divided by c from the\n",
    "#    range a,b inclusive?"
   ]
  },
  {
   "cell_type": "code",
   "execution_count": 2,
   "id": "11627aaa",
   "metadata": {},
   "outputs": [
    {
     "name": "stdout",
     "output_type": "stream",
     "text": [
      "30\n"
     ]
    }
   ],
   "source": [
    "class sumOfnum:\n",
    "    def evensum_div(self,a,b,c):\n",
    "        self.a = a\n",
    "        self.b = b\n",
    "        self.c = c\n",
    "        try:\n",
    "            div_list = []\n",
    "            sum = 0\n",
    "            for i in range(a,b+1):\n",
    "                if i%c == 0:\n",
    "                    div_list.append(i)\n",
    "                    sum = sum+i\n",
    "            print(sum)\n",
    "            \n",
    "        except Exception as e:\n",
    "            print(e)\n",
    "obj = sumOfnum()\n",
    "obj.evensum_div(1,10,2)"
   ]
  },
  {
   "cell_type": "code",
   "execution_count": 3,
   "id": "1e924c6a",
   "metadata": {},
   "outputs": [],
   "source": [
    "#Q2. Create a function that returns True if a given inequality expression is correct and False otherwise?"
   ]
  },
  {
   "cell_type": "code",
   "execution_count": 4,
   "id": "c1c3818f",
   "metadata": {},
   "outputs": [
    {
     "name": "stdout",
     "output_type": "stream",
     "text": [
      "Enter the inequality expression: 3>5>7\n",
      "False\n",
      "Enter the inequality expression: 7>5>2\n",
      "True\n",
      "Enter the inequality expression: 12>10>5\n",
      "True\n"
     ]
    }
   ],
   "source": [
    "def check_inequality():\n",
    "    in_string = input(\"Enter the inequality expression: \")\n",
    "    out_bool = eval(in_string)\n",
    "    print(out_bool)\n",
    "for x in range(3):\n",
    "    check_inequality()"
   ]
  },
  {
   "cell_type": "code",
   "execution_count": 5,
   "id": "46df466a",
   "metadata": {},
   "outputs": [],
   "source": [
    "#Q3. Create a function that replaces all the vowels in a string with a specified character? "
   ]
  },
  {
   "cell_type": "code",
   "execution_count": 6,
   "id": "23baa26f",
   "metadata": {},
   "outputs": [
    {
     "name": "stdout",
     "output_type": "stream",
     "text": [
      "Enter the string: hardworking \n",
      "Enter the replacement character: @\n",
      "h@rdw@rk@ng \n"
     ]
    }
   ],
   "source": [
    "def replaceVowels():\n",
    "    vowels = ['a','e','i','o','u','A','E','I','O','U']\n",
    "    in_string = input(\"Enter the string: \")\n",
    "    in_char = input(\"Enter the replacement character: \")\n",
    "    for i in in_string:\n",
    "        if i in vowels:\n",
    "            in_string = in_string.replace(i,in_char)\n",
    "    print(in_string)\n",
    "replaceVowels()"
   ]
  },
  {
   "cell_type": "code",
   "execution_count": 7,
   "id": "c6edd759",
   "metadata": {},
   "outputs": [],
   "source": [
    "#Q4. Write a function that calculates factorial of a number recursively?"
   ]
  },
  {
   "cell_type": "code",
   "execution_count": 8,
   "id": "9f24a951",
   "metadata": {},
   "outputs": [],
   "source": [
    "def factorial(n):\n",
    "    if n==0:\n",
    "        return 1\n",
    "    else:\n",
    "        return n*(n-1)"
   ]
  },
  {
   "cell_type": "code",
   "execution_count": 9,
   "id": "274c1252",
   "metadata": {},
   "outputs": [
    {
     "data": {
      "text/plain": [
       "42"
      ]
     },
     "execution_count": 9,
     "metadata": {},
     "output_type": "execute_result"
    }
   ],
   "source": [
    "factorial(7)"
   ]
  },
  {
   "cell_type": "code",
   "execution_count": 10,
   "id": "73dc16c4",
   "metadata": {},
   "outputs": [],
   "source": [
    "#Q5. Haming distance is the number of characters that differ between two strings?\n",
    "#    To illustrate:\n",
    "#    String1 : \"abcbba\"\n",
    "#    String2 : \"abcbda\"\n",
    "#    Hamming Distance : 1-\"b\"vs\"d\" is the only difference\n",
    "#    Creates a function that computes the hamming distance between two strings"
   ]
  },
  {
   "cell_type": "code",
   "execution_count": 11,
   "id": "66a8a5b7",
   "metadata": {},
   "outputs": [
    {
     "name": "stdout",
     "output_type": "stream",
     "text": [
      "Enter the first string: dgyvdxu\n",
      "Enter the second  string: deucdouh\n",
      "Both string is of same length\n"
     ]
    }
   ],
   "source": [
    "def hammingDistance():\n",
    "    string1 = input(\"Enter the first string: \")\n",
    "    string2 = input(\"Enter the second  string: \")\n",
    "    if len(string1)==len(string2):\n",
    "        count = 0\n",
    "        for i in range(len(string1)):\n",
    "            if string1[i]!=string2[i]:\n",
    "                count=count+1\n",
    "        print(\"Hamming Difference b/w string1 annd string2  are: \",count)\n",
    "    else:\n",
    "        print(\"Both string is of same length\")\n",
    "hammingDistance()\n",
    "            "
   ]
  }
 ],
 "metadata": {
  "kernelspec": {
   "display_name": "Python 3 (ipykernel)",
   "language": "python",
   "name": "python3"
  },
  "language_info": {
   "codemirror_mode": {
    "name": "ipython",
    "version": 3
   },
   "file_extension": ".py",
   "mimetype": "text/x-python",
   "name": "python",
   "nbconvert_exporter": "python",
   "pygments_lexer": "ipython3",
   "version": "3.9.7"
  }
 },
 "nbformat": 4,
 "nbformat_minor": 5
}
