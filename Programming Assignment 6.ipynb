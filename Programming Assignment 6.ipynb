{
 "cells": [
  {
   "cell_type": "code",
   "execution_count": 1,
   "id": "d2236ba1",
   "metadata": {},
   "outputs": [],
   "source": [
    "#Q1. Write a python programm to display Fibonacci sequence using reccurssion."
   ]
  },
  {
   "cell_type": "code",
   "execution_count": 2,
   "id": "75072777",
   "metadata": {},
   "outputs": [
    {
     "name": "stdout",
     "output_type": "stream",
     "text": [
      "Enter number of terms: 11\n",
      "Fibonacci sequence:\n",
      "0\n",
      "1\n",
      "1\n",
      "2\n",
      "3\n",
      "5\n",
      "8\n",
      "13\n",
      "21\n",
      "34\n",
      "55\n"
     ]
    }
   ],
   "source": [
    "def recur_fibo(n):\n",
    "    if n<=1:\n",
    "        return n\n",
    "    else:\n",
    "        return(recur_fibo(n-1)+recur_fibo(n-2))\n",
    "n=int(input(\"Enter number of terms: \"))\n",
    "print(\"Fibonacci sequence:\")\n",
    "for i  in range(n):\n",
    "    print(recur_fibo(i))"
   ]
  },
  {
   "cell_type": "code",
   "execution_count": 3,
   "id": "fc99f0fe",
   "metadata": {},
   "outputs": [],
   "source": [
    "#Q2. Write a python program to print Factorial of a number using recurssion."
   ]
  },
  {
   "cell_type": "code",
   "execution_count": 4,
   "id": "742fddb4",
   "metadata": {},
   "outputs": [
    {
     "name": "stdout",
     "output_type": "stream",
     "text": [
      "Enter  the number5\n",
      "number is:  5\n",
      "Facctorial:  120\n"
     ]
    }
   ],
   "source": [
    "def factorial(n):\n",
    "    if n==1 or n==0:\n",
    "        return 1\n",
    "    else:\n",
    "        return (n*factorial(n-1))\n",
    "n=int(input(\"Enter  the number\"))\n",
    "print(\"number is: \",n)\n",
    "print(\"Facctorial: \",factorial(n))"
   ]
  },
  {
   "cell_type": "code",
   "execution_count": 5,
   "id": "acd822aa",
   "metadata": {},
   "outputs": [],
   "source": [
    "#Q3. Write a python program to calculate body mass index."
   ]
  },
  {
   "cell_type": "code",
   "execution_count": 6,
   "id": "87f20b0d",
   "metadata": {},
   "outputs": [
    {
     "name": "stdout",
     "output_type": "stream",
     "text": [
      "Enter the height: 170\n",
      "Enter the  weight: 65\n",
      "The BMI is  0.002249134948096886 so underweight\n"
     ]
    }
   ],
   "source": [
    "def BMI(height,weight):\n",
    "    bmi=weight/height**2\n",
    "    return  bmi\n",
    "height=float(input(\"Enter the height: \"))\n",
    "weight=float(input(\"Enter the  weight: \"))\n",
    "\n",
    "bmi=BMI(height,weight)\n",
    "print(\"The BMI is \", format(bmi),\"so\",end=\" \")\n",
    "if bmi<18.5:\n",
    "    print(\"underweight\")\n",
    "elif (bmi>=18.5 and bmi<24):\n",
    "    print(\"Healthy\")\n",
    "elif (bmi>=24.9 and bmi<30):\n",
    "    print(\"overweight\")\n",
    "elif (bmi>=30):\n",
    "    print(\"suffering from obesity\")\n",
    "else:\n",
    "    pass"
   ]
  },
  {
   "cell_type": "code",
   "execution_count": 7,
   "id": "3bcce35b",
   "metadata": {},
   "outputs": [],
   "source": [
    "#Q4. Write a pyhon program to calculate natural logarithm of any number."
   ]
  },
  {
   "cell_type": "code",
   "execution_count": 9,
   "id": "8477232b",
   "metadata": {},
   "outputs": [
    {
     "name": "stdout",
     "output_type": "stream",
     "text": [
      "Enter the number: 10\n",
      "The value is:  2.302585092994046\n"
     ]
    }
   ],
   "source": [
    "import math\n",
    "number=int(input(\"Enter the number: \"))\n",
    "ans = math.log(number)\n",
    "print(\"The value is: \",ans)"
   ]
  },
  {
   "cell_type": "code",
   "execution_count": 10,
   "id": "7af39a28",
   "metadata": {},
   "outputs": [],
   "source": [
    "#Q5. write a pythhon program for cube sum of first n natural numbers."
   ]
  },
  {
   "cell_type": "code",
   "execution_count": 11,
   "id": "e864f532",
   "metadata": {},
   "outputs": [
    {
     "name": "stdout",
     "output_type": "stream",
     "text": [
      "enter  the  nummber7\n",
      "343\n"
     ]
    }
   ],
   "source": [
    "def sumofseries(n):\n",
    "    sum=0\n",
    "    for i in range(n,n+1):\n",
    "        sum+=i*i*i\n",
    "    return sum\n",
    "n=int(input(\"enter  the  nummber\"))\n",
    "print(sumofseries(n))"
   ]
  }
 ],
 "metadata": {
  "kernelspec": {
   "display_name": "Python 3 (ipykernel)",
   "language": "python",
   "name": "python3"
  },
  "language_info": {
   "codemirror_mode": {
    "name": "ipython",
    "version": 3
   },
   "file_extension": ".py",
   "mimetype": "text/x-python",
   "name": "python",
   "nbconvert_exporter": "python",
   "pygments_lexer": "ipython3",
   "version": "3.9.7"
  }
 },
 "nbformat": 4,
 "nbformat_minor": 5
}
