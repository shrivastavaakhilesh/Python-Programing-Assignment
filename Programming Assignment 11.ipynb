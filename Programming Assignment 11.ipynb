{
 "cells": [
  {
   "cell_type": "code",
   "execution_count": 1,
   "id": "cee89355",
   "metadata": {},
   "outputs": [],
   "source": [
    "#Q1. Write a python program to  find words which are greater than given length k?"
   ]
  },
  {
   "cell_type": "code",
   "execution_count": 2,
   "id": "7f273d08",
   "metadata": {},
   "outputs": [
    {
     "name": "stdout",
     "output_type": "stream",
     "text": [
      "Enter the string: AI IS THE FUTURE\n",
      "Enter the length of the string: 3\n",
      "FUTURE\n"
     ]
    }
   ],
   "source": [
    "def find_word():\n",
    "    int_str = input(\"Enter the string: \")\n",
    "    length = int(input(\"Enter the length of the string: \"))\n",
    "    out_str = []\n",
    "    for i in int_str.split(\" \"):\n",
    "        if len(i) > length:\n",
    "            out_str.append(i)\n",
    "    print(','.join(out_str))\n",
    "find_word()"
   ]
  },
  {
   "cell_type": "code",
   "execution_count": 3,
   "id": "e6a887ba",
   "metadata": {},
   "outputs": [],
   "source": [
    "#Q2. Write a python program for removing i-th character from a string?"
   ]
  },
  {
   "cell_type": "code",
   "execution_count": 4,
   "id": "bae518dd",
   "metadata": {},
   "outputs": [
    {
     "name": "stdout",
     "output_type": "stream",
     "text": [
      "Enter the string: Akki\n",
      "Enter the ith character: 2\n",
      "Aki\n"
     ]
    }
   ],
   "source": [
    "def remove_char():\n",
    "    in_str = input(\"Enter the string: \")\n",
    "    char_num = int(input(\"Enter the ith character: \"))\n",
    "    out_str = ''\n",
    "    for j in range(len(in_str)):\n",
    "        if j!=char_num:\n",
    "            out_str = out_str + in_str[j]\n",
    "    print(out_str)\n",
    "remove_char()"
   ]
  },
  {
   "cell_type": "code",
   "execution_count": 5,
   "id": "a1fd7d3f",
   "metadata": {},
   "outputs": [],
   "source": [
    "#Q3. Write a Python program to split and join a string?"
   ]
  },
  {
   "cell_type": "code",
   "execution_count": 6,
   "id": "9adec527",
   "metadata": {},
   "outputs": [
    {
     "name": "stdout",
     "output_type": "stream",
     "text": [
      "enter the string: I LOVE HOMEMADE FOOD\n",
      "Split String is:  ['I', 'LOVE', 'HOMEMADE', 'FOOD']\n",
      "Join String is:  I LOVE HOMEMADE FOOD\n"
     ]
    }
   ],
   "source": [
    "def splitJoinStr():\n",
    "    str = input(\"enter the string: \")\n",
    "    print(\"Split String is: \",str.split(\" \"))\n",
    "    print(\"Join String is: \",\"\".join(str))\n",
    "splitJoinStr()"
   ]
  },
  {
   "cell_type": "code",
   "execution_count": 7,
   "id": "716fc138",
   "metadata": {},
   "outputs": [],
   "source": [
    "#Q4. Write a python to check if a given string is binary string or not? "
   ]
  },
  {
   "cell_type": "code",
   "execution_count": 8,
   "id": "c23056b5",
   "metadata": {},
   "outputs": [
    {
     "name": "stdout",
     "output_type": "stream",
     "text": [
      "Enter the string:  011000100\n",
      "no\n"
     ]
    }
   ],
   "source": [
    "def checkIsStrBin():\n",
    "    string = input(\"Enter the string: \")\n",
    "    if (string.count('0') + string.count('1') == len(string)):\n",
    "        print(\"yes\")\n",
    "    else:\n",
    "        print(\"no\")\n",
    "checkIsStrBin()"
   ]
  },
  {
   "cell_type": "code",
   "execution_count": 9,
   "id": "0d7f9aaa",
   "metadata": {},
   "outputs": [],
   "source": [
    "#Q5. Write a python program to find uncommon words from two string?"
   ]
  },
  {
   "cell_type": "code",
   "execution_count": 10,
   "id": "7d52f56c",
   "metadata": {},
   "outputs": [
    {
     "name": "stdout",
     "output_type": "stream",
     "text": [
      "Enter the string1: SAM IS A ML ENGINEER\n",
      "Enter the string2: AADI IS DATA SCEIENTIEST\n",
      "{'SCEIENTIEST', 'DATA', 'A', 'ML', 'ENGINEER', 'SAM', 'AADI'}\n"
     ]
    }
   ],
   "source": [
    "def unCommonWords():\n",
    "    str1 = set(input(\"Enter the string1: \").split(' '))\n",
    "    str2 = set(input(\"Enter the string2: \").split(' '))\n",
    "    str = (str1.union(str2)).difference(str1.intersection(str2))\n",
    "    print(str)\n",
    "unCommonWords()"
   ]
  },
  {
   "cell_type": "code",
   "execution_count": 11,
   "id": "54efa38a",
   "metadata": {},
   "outputs": [],
   "source": [
    "#Q6. Write a python to find all duplicate characters in string?"
   ]
  },
  {
   "cell_type": "code",
   "execution_count": 12,
   "id": "86567fe2",
   "metadata": {},
   "outputs": [
    {
     "name": "stdout",
     "output_type": "stream",
     "text": [
      "Enter the string: DHUCDVCUHFCHVOVCF\n",
      "Duplicate characters are: ['V', 'F', 'H', 'C', 'D', 'U']\n"
     ]
    }
   ],
   "source": [
    "def duplicateChar():\n",
    "    str = input(\"Enter the string: \")\n",
    "    non_duplicate = []\n",
    "    duplicate = []\n",
    "    for i in str:\n",
    "        if i not in non_duplicate:\n",
    "            non_duplicate.append(i)\n",
    "        else:\n",
    "            duplicate.append(i)\n",
    "    print(f'Duplicate characters are: {list(set(duplicate))}')\n",
    "duplicateChar()"
   ]
  },
  {
   "cell_type": "code",
   "execution_count": 13,
   "id": "1bf38964",
   "metadata": {},
   "outputs": [],
   "source": [
    "#Q7. Write a python program to check if a string contains any special characters?"
   ]
  },
  {
   "cell_type": "code",
   "execution_count": 14,
   "id": "f8b1e008",
   "metadata": {},
   "outputs": [
    {
     "name": "stdout",
     "output_type": "stream",
     "text": [
      "Enter the string: AKKI@INEURON#AI\n",
      "There are 2 special characters in AKKI@INEURON#AI which are ['@', '#']\n"
     ]
    }
   ],
   "source": [
    "def checkSpecChar():\n",
    "    special_char = '[@_!#$%^&*()<>?|/\\{}~`:]'\n",
    "    str = input(\"Enter the string: \")\n",
    "    char_list = []\n",
    "    count = 0\n",
    "    for i in str:\n",
    "        if i in special_char:\n",
    "            char_list.append(i)\n",
    "            count=count+1\n",
    "    print(f\"There are {count} special characters in {str} which are {char_list}\")\n",
    "checkSpecChar()"
   ]
  },
  {
   "cell_type": "code",
   "execution_count": null,
   "id": "d4a04e3a",
   "metadata": {},
   "outputs": [],
   "source": []
  }
 ],
 "metadata": {
  "kernelspec": {
   "display_name": "Python 3 (ipykernel)",
   "language": "python",
   "name": "python3"
  },
  "language_info": {
   "codemirror_mode": {
    "name": "ipython",
    "version": 3
   },
   "file_extension": ".py",
   "mimetype": "text/x-python",
   "name": "python",
   "nbconvert_exporter": "python",
   "pygments_lexer": "ipython3",
   "version": "3.9.7"
  }
 },
 "nbformat": 4,
 "nbformat_minor": 5
}
