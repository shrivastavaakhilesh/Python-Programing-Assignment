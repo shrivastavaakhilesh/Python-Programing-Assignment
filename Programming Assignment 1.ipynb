{
 "cells": [
  {
   "cell_type": "code",
   "execution_count": 2,
   "id": "ec4a813c",
   "metadata": {},
   "outputs": [
    {
     "name": "stdout",
     "output_type": "stream",
     "text": [
      "Hello python\n"
     ]
    }
   ],
   "source": [
    "#Q1. Write a python program to print 'Hello Python'\n",
    "\n",
    "\n",
    "print(\"Hello python\")"
   ]
  },
  {
   "cell_type": "code",
   "execution_count": 3,
   "id": "a0138d67",
   "metadata": {},
   "outputs": [
    {
     "name": "stdout",
     "output_type": "stream",
     "text": [
      "Enter num1: 5\n",
      "Enter num2: 6\n",
      "('+', '%')+\n",
      "11\n"
     ]
    }
   ],
   "source": [
    "#Q2. Write a python program to do arithemetical operations addition and division.\n",
    "\n",
    "\n",
    "a=int(input(\"Enter num1: \"))\n",
    "b=int(input(\"Enter num2: \"))\n",
    "operation=input((\"+\",\"%\"))\n",
    "if operation==\"+\":\n",
    "    print(a+b)\n",
    "elif operation==\"/\":\n",
    "    print(a/b)\n",
    "else:\n",
    "    pass"
   ]
  },
  {
   "cell_type": "code",
   "execution_count": 4,
   "id": "8cf0cbf3",
   "metadata": {},
   "outputs": [
    {
     "name": "stdout",
     "output_type": "stream",
     "text": [
      "Enter length of base of triangle: 20\n",
      "Enter the height of the triangle: 10\n",
      "100.0\n"
     ]
    }
   ],
   "source": [
    "#Q3. Write a python program to find the area of a triangle\n",
    "\n",
    "\n",
    "base=int(input(\"Enter length of base of triangle: \"))\n",
    "height=int(input(\"Enter the height of the triangle: \"))\n",
    "area=0.5*base*height\n",
    "print(area)"
   ]
  },
  {
   "cell_type": "code",
   "execution_count": 5,
   "id": "a8cc45cd",
   "metadata": {},
   "outputs": [
    {
     "name": "stdout",
     "output_type": "stream",
     "text": [
      "x =  10\n",
      "y =  5\n"
     ]
    }
   ],
   "source": [
    "#Q4. Write a python programm to swap two variables\n",
    "\n",
    "\n",
    "x=5\n",
    "y=10\n",
    "x,y=y,x\n",
    "print(\"x = \",x)\n",
    "print(\"y = \",y)"
   ]
  },
  {
   "cell_type": "code",
   "execution_count": 6,
   "id": "f3e58086",
   "metadata": {},
   "outputs": [
    {
     "name": "stdout",
     "output_type": "stream",
     "text": [
      "9\n"
     ]
    }
   ],
   "source": [
    "#Q5. Write a python program to generate a random number.\n",
    "\n",
    "\n",
    "\n",
    "# program to generate a random number between o and 9\n",
    "# importing the random module\n",
    "\n",
    "import random\n",
    "print(random.randint(0,9))"
   ]
  }
 ],
 "metadata": {
  "kernelspec": {
   "display_name": "Python 3 (ipykernel)",
   "language": "python",
   "name": "python3"
  },
  "language_info": {
   "codemirror_mode": {
    "name": "ipython",
    "version": 3
   },
   "file_extension": ".py",
   "mimetype": "text/x-python",
   "name": "python",
   "nbconvert_exporter": "python",
   "pygments_lexer": "ipython3",
   "version": "3.9.7"
  }
 },
 "nbformat": 4,
 "nbformat_minor": 5
}
