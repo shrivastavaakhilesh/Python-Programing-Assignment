{
 "cells": [
  {
   "cell_type": "code",
   "execution_count": 1,
   "id": "f5928050",
   "metadata": {},
   "outputs": [],
   "source": [
    "#Q1. Write  a python program to find factoorial of a number?"
   ]
  },
  {
   "cell_type": "code",
   "execution_count": 2,
   "id": "29b5dc8d",
   "metadata": {},
   "outputs": [
    {
     "name": "stdout",
     "output_type": "stream",
     "text": [
      "Enter a number: 15\n",
      "The factorial of 15 is 1307674368000\n"
     ]
    }
   ],
   "source": [
    "num=int(input(\"Enter a number: \"))\n",
    "fac=1\n",
    "a=1\n",
    "while a<=num:\n",
    "    fac*=a   #fac=fac*a\n",
    "    a+=1     #a=a+1\n",
    "print(\"The factorial of\",num,\"is\",fac)"
   ]
  },
  {
   "cell_type": "code",
   "execution_count": 3,
   "id": "b965201b",
   "metadata": {},
   "outputs": [],
   "source": [
    "#Q2. Write a python program to dispay  multiplication table?"
   ]
  },
  {
   "cell_type": "code",
   "execution_count": 4,
   "id": "827aef16",
   "metadata": {},
   "outputs": [
    {
     "name": "stdout",
     "output_type": "stream",
     "text": [
      "Enter  the number: 15\n",
      "15 * 1 = 15\n",
      "15 * 2 = 30\n",
      "15 * 3 = 45\n",
      "15 * 4 = 60\n",
      "15 * 5 = 75\n",
      "15 * 6 = 90\n",
      "15 * 7 = 105\n",
      "15 * 8 = 120\n",
      "15 * 9 = 135\n",
      "15 * 10 = 150\n"
     ]
    }
   ],
   "source": [
    "num=int(input(\"Enter  the number: \"))\n",
    "for a  in range(1,11):\n",
    "    print(num,\"*\",a,\"=\",num*a)"
   ]
  },
  {
   "cell_type": "code",
   "execution_count": 5,
   "id": "62ac03df",
   "metadata": {},
   "outputs": [],
   "source": [
    "#Q3. Write a python program to print the Fibonacci sequence?"
   ]
  },
  {
   "cell_type": "code",
   "execution_count": 6,
   "id": "d0ac0344",
   "metadata": {},
   "outputs": [
    {
     "name": "stdout",
     "output_type": "stream",
     "text": [
      "enter first number of element  14\n",
      "0\n",
      "1\n",
      "1\n",
      "2\n",
      "3\n",
      "5\n",
      "8\n",
      "13\n",
      "21\n",
      "34\n",
      "55\n",
      "89\n",
      "144\n",
      "233\n"
     ]
    }
   ],
   "source": [
    "element=int(input(\"enter first number of element  \"))\n",
    "first=0\n",
    "second=1\n",
    "print(first)\n",
    "print(second)\n",
    "for element in range(1,element-1):\n",
    "    third=first+second\n",
    "    print(third)\n",
    "    first,second=second,third"
   ]
  },
  {
   "cell_type": "code",
   "execution_count": 7,
   "id": "5eaa353d",
   "metadata": {},
   "outputs": [],
   "source": [
    "#Q4. Write a python program to check armstrong number?"
   ]
  },
  {
   "cell_type": "code",
   "execution_count": 8,
   "id": "28183502",
   "metadata": {},
   "outputs": [
    {
     "name": "stdout",
     "output_type": "stream",
     "text": [
      "enter the number: 15\n",
      "15 is not an armstrong number\n"
     ]
    }
   ],
   "source": [
    "n=int(input(\"enter the number: \"))\n",
    "sum=0\n",
    "temp=n\n",
    "while temp>0:\n",
    "    digit=temp%10\n",
    "    sum=sum+digit**3\n",
    "    temp=temp//10\n",
    "if n==sum:\n",
    "    print(n,\"is an armstrong number\")\n",
    "else:\n",
    "    print(n,\"is not an armstrong number\")"
   ]
  },
  {
   "cell_type": "code",
   "execution_count": 9,
   "id": "f6e4a8cd",
   "metadata": {},
   "outputs": [],
   "source": [
    "#Q5. Write a python program to print armstrong number in an interval?"
   ]
  },
  {
   "cell_type": "code",
   "execution_count": 11,
   "id": "0eb8f945",
   "metadata": {},
   "outputs": [
    {
     "name": "stdout",
     "output_type": "stream",
     "text": [
      "enter the lower number: 200\n",
      "enter the upper nummber: 4000\n",
      "370\n",
      "371\n",
      "407\n",
      "1634\n"
     ]
    }
   ],
   "source": [
    "lower=int(input(\"enter the lower number: \"))\n",
    "upper=int(input(\"enter the upper nummber: \"))\n",
    "for num in range(lower,upper+1):\n",
    "    #order of number\n",
    "    order=len(str(num))\n",
    "    \n",
    "    #intializing sum =0\n",
    "    sum=0\n",
    "    \n",
    "    temp=num\n",
    "    while temp>0:\n",
    "        digit=temp%10\n",
    "        sum=sum+digit**order\n",
    "        temp=temp//10\n",
    "    if num==sum:\n",
    "        print(num)"
   ]
  },
  {
   "cell_type": "code",
   "execution_count": 12,
   "id": "46ff585b",
   "metadata": {},
   "outputs": [],
   "source": [
    "#Q6. Write a python program to find sum of natural numbers?"
   ]
  },
  {
   "cell_type": "code",
   "execution_count": 13,
   "id": "86c1115d",
   "metadata": {},
   "outputs": [
    {
     "name": "stdout",
     "output_type": "stream",
     "text": [
      "enter up to natural number!: 45\n",
      "sum of number is 1035\n"
     ]
    }
   ],
   "source": [
    "n=int(input(\"enter up to natural number!: \"))\n",
    "i=1\n",
    "sum=0\n",
    "while i<=n:\n",
    "    sum=sum+i\n",
    "    i=i+1\n",
    "print(\"sum of number is\",sum)"
   ]
  }
 ],
 "metadata": {
  "kernelspec": {
   "display_name": "Python 3 (ipykernel)",
   "language": "python",
   "name": "python3"
  },
  "language_info": {
   "codemirror_mode": {
    "name": "ipython",
    "version": 3
   },
   "file_extension": ".py",
   "mimetype": "text/x-python",
   "name": "python",
   "nbconvert_exporter": "python",
   "pygments_lexer": "ipython3",
   "version": "3.9.7"
  }
 },
 "nbformat": 4,
 "nbformat_minor": 5
}
