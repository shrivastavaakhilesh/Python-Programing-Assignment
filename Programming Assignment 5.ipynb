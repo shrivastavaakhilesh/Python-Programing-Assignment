{
 "cells": [
  {
   "cell_type": "code",
   "execution_count": 1,
   "id": "b6fa1ef2",
   "metadata": {},
   "outputs": [],
   "source": [
    "#Q1. Write a python program to find LCM?"
   ]
  },
  {
   "cell_type": "code",
   "execution_count": 2,
   "id": "468179c5",
   "metadata": {},
   "outputs": [],
   "source": [
    "def calculate_lcm(x,y):\n",
    "    if x>y:\n",
    "        greater=x\n",
    "    else:\n",
    "        greater=y\n",
    "    while(True):\n",
    "        if((greater%x==0) and (greater%y==0)):\n",
    "            lcm=greater\n",
    "            break\n",
    "        greater+=1\n",
    "            \n",
    "    return lcm\n",
    "        "
   ]
  },
  {
   "cell_type": "code",
   "execution_count": 3,
   "id": "63f99a7e",
   "metadata": {},
   "outputs": [
    {
     "data": {
      "text/plain": [
       "35"
      ]
     },
     "execution_count": 3,
     "metadata": {},
     "output_type": "execute_result"
    }
   ],
   "source": [
    "calculate_lcm(5,7)"
   ]
  },
  {
   "cell_type": "code",
   "execution_count": 4,
   "id": "6230ca9e",
   "metadata": {},
   "outputs": [],
   "source": [
    "#Q2. Write a python program to find HCF?"
   ]
  },
  {
   "cell_type": "code",
   "execution_count": 5,
   "id": "60d3e6bc",
   "metadata": {},
   "outputs": [],
   "source": [
    "def compute_hcf(x,y):\n",
    "    if x>y:\n",
    "        smaller = y\n",
    "    else:\n",
    "        smaller = x\n",
    "    for i in range(1,smaller+1):\n",
    "        if((x%i==0)and(y%i==0)):\n",
    "            hcf = i\n",
    "    return hcf"
   ]
  },
  {
   "cell_type": "code",
   "execution_count": 6,
   "id": "ddbf2ecd",
   "metadata": {},
   "outputs": [
    {
     "data": {
      "text/plain": [
       "1"
      ]
     },
     "execution_count": 6,
     "metadata": {},
     "output_type": "execute_result"
    }
   ],
   "source": [
    "compute_hcf(12,17)"
   ]
  },
  {
   "cell_type": "code",
   "execution_count": 7,
   "id": "a17950cb",
   "metadata": {},
   "outputs": [],
   "source": [
    "#Q3. Write a python program to convert Decimal to Binary,Octal and Hexadecimal?"
   ]
  },
  {
   "cell_type": "code",
   "execution_count": 9,
   "id": "409e0ea5",
   "metadata": {},
   "outputs": [
    {
     "name": "stdout",
     "output_type": "stream",
     "text": [
      "Enter decimal value: 15\n",
      "The decimal value of 15 is: \n",
      "0b1111 in binary.\n",
      "0o17 in octal.\n",
      "0xf in hexadecimal.\n"
     ]
    }
   ],
   "source": [
    "dec=int(input(\"Enter decimal value: \"))\n",
    "\n",
    "print(\"The decimal value of\",dec,\"is: \")\n",
    "print(bin(dec),\"in binary.\")\n",
    "print(oct(dec),\"in octal.\")\n",
    "print(hex(dec),\"in hexadecimal.\")"
   ]
  },
  {
   "cell_type": "code",
   "execution_count": 10,
   "id": "c32df522",
   "metadata": {},
   "outputs": [],
   "source": [
    "#Q4. Write a python program to find ASCII value  of a character?"
   ]
  },
  {
   "cell_type": "code",
   "execution_count": 11,
   "id": "24f74d98",
   "metadata": {},
   "outputs": [
    {
     "name": "stdout",
     "output_type": "stream",
     "text": [
      "enter the character: d\n",
      "The ASCII value of+c+is 100\n"
     ]
    }
   ],
   "source": [
    "c=input(\"enter the character: \")\n",
    "print(\"The ASCII value of\"\"+c+\"\"is\",ord(c))"
   ]
  },
  {
   "cell_type": "code",
   "execution_count": 12,
   "id": "41fb0bf4",
   "metadata": {},
   "outputs": [],
   "source": [
    "#Q5. Write  a python program to make a simple calculator with 4 basic matheematical  operation."
   ]
  },
  {
   "cell_type": "code",
   "execution_count": 13,
   "id": "90f5fe05",
   "metadata": {},
   "outputs": [
    {
     "name": "stdout",
     "output_type": "stream",
     "text": [
      "Enter first number: 5\n",
      "Enter second number: 4\n",
      "Enter the operation:'+',or,'-',or,'*',or,'/':  *\n",
      "20\n"
     ]
    }
   ],
   "source": [
    "a=int(input(\"Enter first number: \"))\n",
    "b=int(input(\"Enter second number: \"))\n",
    "operation=input(\"Enter the operation:'+',or,'-',or,'*',or,'/':  \")\n",
    "\n",
    "if operation=='+':\n",
    "    print(a+b)\n",
    "elif operation=='-':\n",
    "    print(a-b)\n",
    "elif operation=='*':\n",
    "    print(a*b)\n",
    "elif operation=='/':\n",
    "    print(a/b)\n",
    "else:\n",
    "    pass"
   ]
  }
 ],
 "metadata": {
  "kernelspec": {
   "display_name": "Python 3 (ipykernel)",
   "language": "python",
   "name": "python3"
  },
  "language_info": {
   "codemirror_mode": {
    "name": "ipython",
    "version": 3
   },
   "file_extension": ".py",
   "mimetype": "text/x-python",
   "name": "python",
   "nbconvert_exporter": "python",
   "pygments_lexer": "ipython3",
   "version": "3.9.7"
  }
 },
 "nbformat": 4,
 "nbformat_minor": 5
}
